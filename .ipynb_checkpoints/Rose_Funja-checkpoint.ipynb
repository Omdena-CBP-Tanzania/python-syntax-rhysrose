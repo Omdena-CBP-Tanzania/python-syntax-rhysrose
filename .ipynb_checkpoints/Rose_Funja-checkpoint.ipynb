{
 "cells": [
  {
   "cell_type": "markdown",
   "id": "b2e8d6c8-70e3-4eff-8410-52efd1833c2c",
   "metadata": {},
   "source": [
    "### Part 1: Python Syntax (30 points)\n",
    "\n"
   ]
  },
  {
   "cell_type": "markdown",
   "id": "44dd3035-c35a-47a0-b694-f4a339ad3ee0",
   "metadata": {},
   "source": [
    "Function format_string(name, age) (10 points)\n",
    "\n",
    "Create a formatted string using f-strings\n",
    "Return \"My name is {name} and I am {age} years old\""
   ]
  },
  {
   "cell_type": "code",
   "execution_count": 7,
   "id": "3c908121-895f-455b-a3b5-a87936fbd89b",
   "metadata": {},
   "outputs": [],
   "source": [
    "def format_string(name, age):\n",
    "    return f\"My name is {name} and I am {age} years old\"\n"
   ]
  },
  {
   "cell_type": "markdown",
   "id": "be18827f-e518-4e2a-9b1a-7c8f47b66fcc",
   "metadata": {},
   "source": [
    "Function conditional_check(number) (10 points)\n",
    "\n",
    "If number > 10: return \"Greater\"\n",
    "If number < 10: return \"Lesser\"\n",
    "If number == 10: return \"Equal\""
   ]
  },
  {
   "cell_type": "code",
   "execution_count": 11,
   "id": "4fe50125-bf91-46a2-b475-81737c4583ed",
   "metadata": {},
   "outputs": [],
   "source": [
    "def conditional_check(number):\n",
    "    if number > 10:\n",
    "        return \"Greater\"\n",
    "    elif number < 10:\n",
    "        return \"Lesser\"\n",
    "    else:\n",
    "        return \"Equal\""
   ]
  },
  {
   "cell_type": "markdown",
   "id": "7cc5f6b4-b341-4092-a962-40f9faec7a21",
   "metadata": {},
   "source": [
    "Function loop_sum(n) (10 points)\n",
    "\n",
    "Use a loop to sum numbers from 1 to n\n",
    "Return the sum"
   ]
  },
  {
   "cell_type": "code",
   "execution_count": 25,
   "id": "d8ba2306-98e0-47e5-ad2b-151d31ae968c",
   "metadata": {},
   "outputs": [],
   "source": [
    "def loop_sum(n):\n",
    "    total = 0\n",
    "    for i in range(1, n + 1):\n",
    "        total += i\n",
    "    return total\n",
    "# loop_sum(3)"
   ]
  },
  {
   "cell_type": "markdown",
   "id": "8a76b657-850a-4e22-beb8-3dadf15e59ac",
   "metadata": {},
   "source": [
    "### Part 2: Data Structures (40 points)"
   ]
  },
  {
   "cell_type": "markdown",
   "id": "9591c3e9-3e08-426e-9aa0-a54090f6467b",
   "metadata": {},
   "source": [
    "Function list_operations(numbers) (15 points)\n",
    "\n",
    "Take a list of numbers\n",
    "Return a tuple containing:\n",
    "Sum of all numbers\n",
    "Maximum number\n",
    "Minimum number"
   ]
  },
  {
   "cell_type": "code",
   "execution_count": 32,
   "id": "e0a43770-9862-46c3-84bf-a2af3ed0d0fa",
   "metadata": {},
   "outputs": [
    {
     "name": "stdout",
     "output_type": "stream",
     "text": [
      "The total, max and Minimum  are  (21, 6, 1)\n"
     ]
    }
   ],
   "source": [
    "def list_operations(numbers):\n",
    "    total_sum = sum(numbers)\n",
    "    max_number = max(numbers)\n",
    "    min_number = min(numbers)\n",
    "    return (total_sum, max_number, min_number)\n",
    "\n",
    "#number_list  = [ 1, 2, 3, 4, 5, 6]\n",
    "#print (\"The total, max and Minimum  are \" ,list_operations(number_list ))\n"
   ]
  },
  {
   "cell_type": "markdown",
   "id": "e8b9be01-ce0c-4cae-8028-4edec831af01",
   "metadata": {},
   "source": [
    "Function dict_operations(students_dict) (15 points)\n",
    "\n",
    "Take a dictionary of student names and scores\n",
    "Return a list of names of students who scored above 80"
   ]
  },
  {
   "cell_type": "code",
   "execution_count": null,
   "id": "ca49102b-3635-448c-925c-ee3d1c304b7b",
   "metadata": {},
   "outputs": [],
   "source": []
  },
  {
   "cell_type": "markdown",
   "id": "a80f97c2-4e95-4749-b618-52e93b1ec4bd",
   "metadata": {},
   "source": [
    "Function set_operations(list1, list2) (10 points)\n",
    "\n",
    "Take two lists\n",
    "Return a set of common elements"
   ]
  },
  {
   "cell_type": "code",
   "execution_count": null,
   "id": "c07d6f9c-249e-428f-9bdf-171c8d5b2902",
   "metadata": {},
   "outputs": [],
   "source": []
  },
  {
   "cell_type": "markdown",
   "id": "52b82cc7-9aef-41da-bf98-728385072635",
   "metadata": {},
   "source": [
    "### Part 3: Operators (30 points)"
   ]
  },
  {
   "cell_type": "markdown",
   "id": "d39884c3-edcf-44ed-87a4-8f44a666ac47",
   "metadata": {},
   "source": [
    "Function arithmetic_ops(a, b) (10 points)\n",
    "\n",
    "Return a dictionary with:\n",
    "'sum': a + b\n",
    "'difference': a - b\n",
    "'product': a * b\n",
    "'quotient': a / b (handle division by zero)"
   ]
  },
  {
   "cell_type": "code",
   "execution_count": null,
   "id": "e1748d47-306c-4a32-ba12-088eac4faae4",
   "metadata": {},
   "outputs": [],
   "source": []
  },
  {
   "cell_type": "markdown",
   "id": "1b0850d6-b14e-4a45-9f80-4e26df889247",
   "metadata": {},
   "source": [
    "Function logical_ops(x, y) (10 points)\n",
    "\n",
    "Return a dictionary with results of:\n",
    "'and': x and y\n",
    "'or': x or y\n",
    "'not_x': not x"
   ]
  },
  {
   "cell_type": "code",
   "execution_count": null,
   "id": "c06d241d-2ba6-426a-a256-ec75708fda63",
   "metadata": {},
   "outputs": [],
   "source": []
  },
  {
   "cell_type": "markdown",
   "id": "da8bd90c-4918-4d97-a724-a90fb6ed7e01",
   "metadata": {},
   "source": [
    "Function bitwise_ops(a, b) (10 points)\n",
    "\n",
    "Return a dictionary with:\n",
    "'and': a & b\n",
    "'or': a | b\n",
    "'xor': a ^ b\n"
   ]
  },
  {
   "cell_type": "code",
   "execution_count": null,
   "id": "351f63b2-9313-4e3c-b56c-4319dd5cd15a",
   "metadata": {},
   "outputs": [],
   "source": []
  }
 ],
 "metadata": {
  "kernelspec": {
   "display_name": "Python [conda env:anaconda3]",
   "language": "python",
   "name": "conda-env-anaconda3-py"
  },
  "language_info": {
   "codemirror_mode": {
    "name": "ipython",
    "version": 3
   },
   "file_extension": ".py",
   "mimetype": "text/x-python",
   "name": "python",
   "nbconvert_exporter": "python",
   "pygments_lexer": "ipython3",
   "version": "3.7.1"
  }
 },
 "nbformat": 4,
 "nbformat_minor": 5
}
